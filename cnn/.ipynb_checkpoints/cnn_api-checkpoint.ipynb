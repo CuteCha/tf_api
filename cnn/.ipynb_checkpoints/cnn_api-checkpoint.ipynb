{
 "cells": [
  {
   "cell_type": "code",
   "execution_count": 1,
   "metadata": {},
   "outputs": [
    {
     "name": "stdout",
     "output_type": "stream",
     "text": [
      "2.0.0-rc1\n"
     ]
    }
   ],
   "source": [
    "import matplotlib as mpl\n",
    "import matplotlib.pyplot as plt\n",
    "%matplotlib inline\n",
    "import numpy as np\n",
    "import sklearn\n",
    "import pandas as pd\n",
    "import os\n",
    "import sys\n",
    "import time\n",
    "import tensorflow as tf\n",
    "from tensorflow import keras\n",
    "\n",
    "print(tf.__version__)"
   ]
  },
  {
   "cell_type": "code",
   "execution_count": 2,
   "metadata": {},
   "outputs": [
    {
     "name": "stdout",
     "output_type": "stream",
     "text": [
      "(5000, 28, 28) (5000,)\n",
      "(55000, 28, 28) (55000,)\n",
      "(10000, 28, 28) (10000,)\n"
     ]
    }
   ],
   "source": [
    "fashion_mnist=keras.datasets.fashion_mnist\n",
    "(x_train_all,y_train_all),(x_test,y_test)=fashion_mnist.load_data()\n",
    "x_valid,x_train=x_train_all[:5000],x_train_all[5000:]\n",
    "y_valid,y_train=y_train_all[:5000],y_train_all[5000:]\n",
    "\n",
    "print(x_valid.shape,y_valid.shape)\n",
    "print(x_train.shape,y_train.shape)\n",
    "print(x_test.shape,y_test.shape)"
   ]
  },
  {
   "cell_type": "code",
   "execution_count": 3,
   "metadata": {
    "collapsed": true
   },
   "outputs": [],
   "source": [
    "from sklearn.preprocessing import StandardScaler\n",
    "\n",
    "scaler = StandardScaler()\n",
    "\n",
    "x_train_scaled = scaler.fit_transform(x_train.astype(np.float32).reshape(-1, 1)).reshape(-1, 28, 28,1)\n",
    "x_valid_scaled = scaler.transform(x_valid.astype(np.float32).reshape(-1, 1)).reshape(-1, 28, 28,1)\n",
    "x_test_scaled = scaler.transform(x_test.astype(np.float32).reshape(-1, 1)).reshape(-1, 28, 28,1)\n",
    "\n"
   ]
  },
  {
   "cell_type": "code",
   "execution_count": 4,
   "metadata": {},
   "outputs": [
    {
     "name": "stdout",
     "output_type": "stream",
     "text": [
      "WARNING:tensorflow:From /home/mi/workflow/anaconda3/lib/python3.6/site-packages/tensorflow_core/python/keras/backend.py:4268: where (from tensorflow.python.ops.array_ops) is deprecated and will be removed in a future version.\n",
      "Instructions for updating:\n",
      "Use tf.where in 2.0, which has the same broadcast rule as np.where\n",
      "Model: \"sequential\"\n",
      "_________________________________________________________________\n",
      "Layer (type)                 Output Shape              Param #   \n",
      "=================================================================\n",
      "conv2d (Conv2D)              (None, 28, 28, 32)        320       \n",
      "_________________________________________________________________\n",
      "conv2d_1 (Conv2D)            (None, 28, 28, 32)        9248      \n",
      "_________________________________________________________________\n",
      "max_pooling2d (MaxPooling2D) (None, 14, 14, 32)        0         \n",
      "_________________________________________________________________\n",
      "conv2d_2 (Conv2D)            (None, 14, 14, 64)        18496     \n",
      "_________________________________________________________________\n",
      "conv2d_3 (Conv2D)            (None, 14, 14, 64)        36928     \n",
      "_________________________________________________________________\n",
      "max_pooling2d_1 (MaxPooling2 (None, 7, 7, 64)          0         \n",
      "_________________________________________________________________\n",
      "conv2d_4 (Conv2D)            (None, 7, 7, 128)         73856     \n",
      "_________________________________________________________________\n",
      "conv2d_5 (Conv2D)            (None, 7, 7, 128)         147584    \n",
      "_________________________________________________________________\n",
      "max_pooling2d_2 (MaxPooling2 (None, 3, 3, 128)         0         \n",
      "_________________________________________________________________\n",
      "flatten (Flatten)            (None, 1152)              0         \n",
      "_________________________________________________________________\n",
      "dense (Dense)                (None, 128)               147584    \n",
      "_________________________________________________________________\n",
      "dense_1 (Dense)              (None, 10)                1290      \n",
      "=================================================================\n",
      "Total params: 435,306\n",
      "Trainable params: 435,306\n",
      "Non-trainable params: 0\n",
      "_________________________________________________________________\n"
     ]
    }
   ],
   "source": [
    "model = keras.Sequential()\n",
    "#添加两个卷积层一个pooling层\n",
    "model.add(keras.layers.Conv2D(filters=32,kernel_size =3,padding = 'same',activation= 'selu',input_shape=(28,28,1)))\n",
    "model.add(keras.layers.Conv2D(filters=32,kernel_size =3,padding = 'same',activation= 'selu'))\n",
    "model.add(keras.layers.MaxPool2D(pool_size = 2))\n",
    "\n",
    "#添加两个卷积层一个pooling层\n",
    "model.add(keras.layers.Conv2D(filters=64,kernel_size =3,padding = 'same',activation= 'selu'))\n",
    "model.add(keras.layers.Conv2D(filters=64,kernel_size =3,padding = 'same',activation= 'selu'))\n",
    "model.add(keras.layers.MaxPool2D(pool_size = 2))\n",
    "\n",
    "#添加两个卷积层一个pooling层\n",
    "model.add(keras.layers.Conv2D(filters=128,kernel_size =3,padding = 'same',activation= 'selu'))\n",
    "model.add(keras.layers.Conv2D(filters=128,kernel_size =3,padding = 'same',activation= 'selu'))\n",
    "model.add(keras.layers.MaxPool2D(pool_size = 2))\n",
    "\n",
    "#添加全连接层\n",
    "#先flatten\n",
    "model.add(keras.layers.Flatten())\n",
    "model.add(keras.layers.Dense(128,activation='selu'))\n",
    "model.add(keras.layers.Dense(10, activation=\"softmax\"))\n",
    "\n",
    "model.compile(loss=\"sparse_categorical_crossentropy\",  # 损失函数\n",
    "              optimizer = \"sgd\",  # 优化器名\n",
    "              metrics = [\"accuracy\"])\n",
    "\n",
    "model.summary()"
   ]
  },
  {
   "cell_type": "code",
   "execution_count": 5,
   "metadata": {
    "collapsed": true
   },
   "outputs": [],
   "source": [
    "logdir = \"cnn-selu-callbacks\"\n",
    "if not os.path.exists(logdir):\n",
    "    os.mkdir(logdir)\n",
    "output_model_file = os.path.join(logdir ,\"fashion_mnist_model.h5\")\n",
    "\n",
    "callbacks = [\n",
    "    keras.callbacks.TensorBoard(logdir)  ,  # 保存在logdir中\n",
    "    keras.callbacks.ModelCheckpoint(output_model_file,  # 模型名称\n",
    "                                    save_best_only = True),  # 保存一个最好的模型\n",
    "    keras.callbacks.EarlyStopping(patience=5, min_delta=1e-3)  ,  # 如果连续5次迭代，loss值达到最小误差1e-3，便停止训练\n",
    "]\n"
   ]
  },
  {
   "cell_type": "code",
   "execution_count": null,
   "metadata": {},
   "outputs": [
    {
     "name": "stdout",
     "output_type": "stream",
     "text": [
      "Train on 55000 samples, validate on 5000 samples\n",
      "Epoch 1/10\n",
      "55000/55000 [==============================] - 103s 2ms/sample - loss: 0.4243 - accuracy: 0.8463 - val_loss: 0.3343 - val_accuracy: 0.8778\n",
      "Epoch 2/10\n",
      "55000/55000 [==============================] - 102s 2ms/sample - loss: 0.2838 - accuracy: 0.8976 - val_loss: 0.2771 - val_accuracy: 0.9014\n",
      "Epoch 3/10\n",
      "55000/55000 [==============================] - 102s 2ms/sample - loss: 0.2354 - accuracy: 0.9146 - val_loss: 0.2460 - val_accuracy: 0.9100\n",
      "Epoch 4/10\n",
      "55000/55000 [==============================] - 105s 2ms/sample - loss: 0.2011 - accuracy: 0.9283 - val_loss: 0.2300 - val_accuracy: 0.9190\n",
      "Epoch 5/10\n",
      "55000/55000 [==============================] - 103s 2ms/sample - loss: 0.1749 - accuracy: 0.9365 - val_loss: 0.2365 - val_accuracy: 0.9152\n",
      "Epoch 6/10\n",
      "41696/55000 [=====================>........] - ETA: 24s - loss: 0.1458 - accuracy: 0.9477"
     ]
    }
   ],
   "source": [
    "history = model.fit(x_train_scaled, y_train, epochs=10,\n",
    "                    validation_data=(x_valid_scaled, y_valid),\n",
    "                    callbacks = callbacks)"
   ]
  },
  {
   "cell_type": "code",
   "execution_count": null,
   "metadata": {
    "collapsed": true
   },
   "outputs": [],
   "source": [
    "def plot_learning_curves(history):\n",
    "    pd.DataFrame(history.history).plot(figsize=(8 ,5))\n",
    "    plt.grid(True)\n",
    "    plt.gca().set_ylim(0 ,3)\n",
    "    plt.show()\n",
    "\n",
    "\n",
    "plot_learning_curves(history)"
   ]
  }
 ],
 "metadata": {
  "kernelspec": {
   "display_name": "Python 3",
   "language": "python",
   "name": "python3"
  },
  "language_info": {
   "codemirror_mode": {
    "name": "ipython",
    "version": 3
   },
   "file_extension": ".py",
   "mimetype": "text/x-python",
   "name": "python",
   "nbconvert_exporter": "python",
   "pygments_lexer": "ipython3",
   "version": "3.6.3"
  }
 },
 "nbformat": 4,
 "nbformat_minor": 2
}
