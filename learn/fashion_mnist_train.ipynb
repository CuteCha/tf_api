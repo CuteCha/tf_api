{
 "cells": [
  {
   "cell_type": "code",
   "execution_count": 1,
   "metadata": {},
   "outputs": [
    {
     "name": "stdout",
     "output_type": "stream",
     "text": [
      "2.0.0-rc1\n"
     ]
    }
   ],
   "source": [
    "import tensorflow as tf\n",
    "import tensorflow.keras as keras\n",
    "print(tf.__version__)\n",
    "\n",
    "# from    tensorflow.keras import layers, optimizers, datasets"
   ]
  },
  {
   "cell_type": "code",
   "execution_count": 29,
   "metadata": {},
   "outputs": [
    {
     "name": "stdout",
     "output_type": "stream",
     "text": [
      "(60000, 28, 28) (60000,)\n",
      "{0, 1, 2, 3, 4, 5, 6, 7, 8, 9}\n",
      "(10000, 28, 28) (10000, 28, 28)\n"
     ]
    }
   ],
   "source": [
    "(data_train, label_train), (data_valid, label_valid) = keras.datasets.fashion_mnist.load_data()\n",
    "print(data_train.shape,label_train.shape)\n",
    "print(set(label_train))\n",
    "print(data_valid.shape,data_valid.shape)\n",
    "# dataset = tf.data.Dataset.from_tensor_slices((data, label))\n",
    "# dataset = dataset.map(prepare_mnist_features_and_labels)\n",
    "# dataset = dataset.take(20000).shuffle(20000).batch(100)"
   ]
  },
  {
   "cell_type": "code",
   "execution_count": 44,
   "metadata": {
    "collapsed": true
   },
   "outputs": [],
   "source": [
    "def prepare_mnist_features_and_labels(x, y):\n",
    "    x = tf.cast(x, tf.float32) / 255.0\n",
    "    y = tf.cast(y, tf.int64)\n",
    "    return x, y\n",
    "def make_datase(data,label):\n",
    "    dataset=tf.data.Dataset.from_tensor_slices((data, label))\n",
    "    dataset = dataset.map(prepare_mnist_features_and_labels)\n",
    "    dataset = dataset.shuffle(10000).batch(100)\n",
    "    return dataset\n",
    "\n",
    "\n",
    "dataset_train = make_datase(data_train, label_train)\n",
    "dataset_valid = make_datase(data_valid, label_valid)\n"
   ]
  },
  {
   "cell_type": "markdown",
   "metadata": {},
   "source": [
    "model method 1"
   ]
  },
  {
   "cell_type": "code",
   "execution_count": 32,
   "metadata": {
    "collapsed": true
   },
   "outputs": [],
   "source": [
    "def compute_loss(logits, labels):\n",
    "    return tf.reduce_mean(tf.nn.sparse_softmax_cross_entropy_with_logits(logits=logits, labels=labels))\n",
    "\n",
    "def compute_accuracy(logits, labels):\n",
    "    predictions = tf.argmax(logits, axis=1)\n",
    "    return tf.reduce_mean(tf.cast(tf.equal(predictions, labels), tf.float32))\n",
    "\n",
    "def batch_train(model, optimizer, x, y):\n",
    "    with tf.GradientTape() as tape:\n",
    "        logits = model(x)\n",
    "        loss = compute_loss(logits, y)\n",
    "\n",
    "    # compute gradient\n",
    "    grads = tape.gradient(loss, model.trainable_variables)\n",
    "    # update to weights\n",
    "    optimizer.apply_gradients(zip(grads, model.trainable_variables))\n",
    "    accuracy = compute_accuracy(logits, y)\n",
    "\n",
    "    # loss and accuracy is scalar tensor\n",
    "    return loss, accuracy\n",
    "\n",
    "def train(model, optimizer, dataset):\n",
    "    loss = 0.0\n",
    "    accuracy = 0.0\n",
    "    for step, (x, y) in enumerate(dataset):\n",
    "        loss, accuracy = batch_train(model, optimizer, x, y)\n",
    "#         if step%5000==0:\n",
    "#             #print(\"step={:0>6d}\\tloss={:.6f}\\tacc={:.4f}\".format(step,loss.numpy,accuracy.numpy))\n",
    "#             print('step', step, ': loss', loss.numpy(), '; accuracy', accuracy.numpy())\n",
    "    return loss, accuracy"
   ]
  },
  {
   "cell_type": "code",
   "execution_count": 33,
   "metadata": {},
   "outputs": [
    {
     "name": "stdout",
     "output_type": "stream",
     "text": [
      "Model: \"sequential_2\"\n",
      "_________________________________________________________________\n",
      "Layer (type)                 Output Shape              Param #   \n",
      "=================================================================\n",
      "reshape_2 (Reshape)          (None, 784)               0         \n",
      "_________________________________________________________________\n",
      "dense_6 (Dense)              (None, 200)               157000    \n",
      "_________________________________________________________________\n",
      "dense_7 (Dense)              (None, 200)               40200     \n",
      "_________________________________________________________________\n",
      "dense_8 (Dense)              (None, 10)                2010      \n",
      "=================================================================\n",
      "Total params: 199,210\n",
      "Trainable params: 199,210\n",
      "Non-trainable params: 0\n",
      "_________________________________________________________________\n"
     ]
    }
   ],
   "source": [
    "model = keras.Sequential([keras.layers.Reshape(target_shape=(28 * 28,), input_shape=(28, 28)),\n",
    "                          keras.layers.Dense(200, activation='relu'),\n",
    "                          keras.layers.Dense(200, activation='relu'),\n",
    "                          keras.layers.Dense(10)])\n",
    "\n",
    "model.summary()\n"
   ]
  },
  {
   "cell_type": "code",
   "execution_count": 34,
   "metadata": {},
   "outputs": [
    {
     "name": "stdout",
     "output_type": "stream",
     "text": [
      "epoch 0 : loss 0.61457676 ; accuracy 0.77\n",
      "epoch 1 : loss 0.3720266 ; accuracy 0.86\n",
      "epoch 2 : loss 0.50202155 ; accuracy 0.84\n",
      "epoch 3 : loss 0.4606101 ; accuracy 0.81\n",
      "epoch 4 : loss 0.39552906 ; accuracy 0.86\n"
     ]
    }
   ],
   "source": [
    "optimizer = keras.optimizers.Adam()\n",
    "for epoch in range(5):\n",
    "    loss, accuracy = train(model, optimizer, dataset_train)\n",
    "    #print(\"\\nepoch={:0>6d}\\tloss={:.6f}\\tacc={:.4f}\".format(epoch,loss.numpy,accuracy.numpy))\n",
    "    print('epoch', epoch, ': loss', loss.numpy(), '; accuracy', accuracy.numpy())"
   ]
  },
  {
   "cell_type": "markdown",
   "metadata": {},
   "source": [
    "model mothed 2"
   ]
  },
  {
   "cell_type": "code",
   "execution_count": 37,
   "metadata": {
    "collapsed": true
   },
   "outputs": [],
   "source": [
    "class MyModel(keras.Model):\n",
    "    def __init__(self):\n",
    "        super(MyModel, self).__init__()\n",
    "        self.layer1 = keras.layers.Dense(200, activation=tf.nn.relu)\n",
    "        self.layer2 = keras.layers.Dense(200, activation=tf.nn.relu)\n",
    "        self.layer3 = keras.layers.Dense(10)\n",
    "\n",
    "    def call(self, x, training=False):\n",
    "        x = tf.reshape(x, [-1, 28*28])\n",
    "        x = self.layer1(x)\n",
    "        x = self.layer2(x)\n",
    "        x = self.layer3(x)\n",
    "        return x"
   ]
  },
  {
   "cell_type": "code",
   "execution_count": 41,
   "metadata": {},
   "outputs": [],
   "source": [
    "model = MyModel()\n",
    "model.compile(optimizer=keras.optimizers.Adam(1e-3),\n",
    "              loss=tf.losses.CategoricalCrossentropy(from_logits=True),\n",
    "              metrics=['accuracy'])\n",
    "\n",
    "# model.summary()"
   ]
  },
  {
   "cell_type": "code",
   "execution_count": 45,
   "metadata": {},
   "outputs": [
    {
     "name": "stdout",
     "output_type": "stream",
     "text": [
      "Train for 500 steps, validate for 2 steps\n",
      "Epoch 1/5\n",
      "500/500 [==============================] - 3s 7ms/step - loss: 797121.0500 - accuracy: 0.0000e+00 - val_loss: 2528534.3750 - val_accuracy: 0.0000e+00\n",
      "Epoch 2/5\n",
      "500/500 [==============================] - 3s 5ms/step - loss: 5994458.6615 - accuracy: 0.0000e+00 - val_loss: 10559857.5000 - val_accuracy: 0.0000e+00\n",
      "Epoch 3/5\n",
      "500/500 [==============================] - 3s 5ms/step - loss: 14362181.3790 - accuracy: 0.0000e+00 - val_loss: 17303422.5000 - val_accuracy: 0.0000e+00\n",
      "Epoch 4/5\n",
      "500/500 [==============================] - 3s 5ms/step - loss: 23401485.7280 - accuracy: 0.0000e+00 - val_loss: 26213081.0000 - val_accuracy: 0.0000e+00\n",
      "Epoch 5/5\n",
      "500/500 [==============================] - 3s 5ms/step - loss: 33408497.6440 - accuracy: 0.0000e+00 - val_loss: 46919874.0000 - val_accuracy: 0.0000e+00\n"
     ]
    },
    {
     "data": {
      "text/plain": [
       "<tensorflow.python.keras.callbacks.History at 0x7fabb019a278>"
      ]
     },
     "execution_count": 45,
     "metadata": {},
     "output_type": "execute_result"
    }
   ],
   "source": [
    "model.fit(dataset_train.repeat(), epochs=5, steps_per_epoch=500, verbose=1,\n",
    "              validation_data=dataset_valid.repeat(),\n",
    "              validation_steps=2)"
   ]
  },
  {
   "cell_type": "code",
   "execution_count": null,
   "metadata": {
    "collapsed": true
   },
   "outputs": [],
   "source": [
    "model mothed 3"
   ]
  },
  {
   "cell_type": "code",
   "execution_count": 47,
   "metadata": {},
   "outputs": [
    {
     "name": "stdout",
     "output_type": "stream",
     "text": [
      "Model: \"sequential_4\"\n",
      "_________________________________________________________________\n",
      "Layer (type)                 Output Shape              Param #   \n",
      "=================================================================\n",
      "reshape_4 (Reshape)          (None, 784)               0         \n",
      "_________________________________________________________________\n",
      "dense_26 (Dense)             (None, 200)               157000    \n",
      "_________________________________________________________________\n",
      "dense_27 (Dense)             (None, 200)               40200     \n",
      "_________________________________________________________________\n",
      "dense_28 (Dense)             (None, 200)               40200     \n",
      "_________________________________________________________________\n",
      "dense_29 (Dense)             (None, 10)                2010      \n",
      "=================================================================\n",
      "Total params: 239,410\n",
      "Trainable params: 239,410\n",
      "Non-trainable params: 0\n",
      "_________________________________________________________________\n"
     ]
    }
   ],
   "source": [
    "model = keras.Sequential([\n",
    "        keras.layers.Reshape(target_shape=(28 * 28,), input_shape=(28, 28)),\n",
    "        keras.layers.Dense(200, activation='relu'),\n",
    "        keras.layers.Dense(200, activation='relu'),\n",
    "        keras.layers.Dense(200, activation='relu'),\n",
    "        keras.layers.Dense(10)])\n",
    "# no need to use compile if you have no loss/optimizer/metrics involved here.\n",
    "model.compile(optimizer=keras.optimizers.Adam(0.001),\n",
    "              loss=tf.losses.CategoricalCrossentropy(from_logits=True),\n",
    "              metrics=['accuracy'])\n",
    "\n",
    "model.summary()"
   ]
  },
  {
   "cell_type": "code",
   "execution_count": 48,
   "metadata": {},
   "outputs": [
    {
     "name": "stdout",
     "output_type": "stream",
     "text": [
      "Train for 500 steps, validate for 2 steps\n",
      "Epoch 1/5\n",
      "500/500 [==============================] - 4s 7ms/step - loss: 93531316.0967 - accuracy: 0.9174 - val_loss: 383383056.0000 - val_accuracy: 1.0000\n",
      "Epoch 2/5\n",
      "500/500 [==============================] - 3s 6ms/step - loss: 1594857473.0240 - accuracy: 1.0000 - val_loss: 3387993472.0000 - val_accuracy: 1.0000\n",
      "Epoch 3/5\n",
      "500/500 [==============================] - 3s 6ms/step - loss: 6255194450.4320 - accuracy: 0.9880 - val_loss: 10364723200.0000 - val_accuracy: 1.0000\n",
      "Epoch 4/5\n",
      "500/500 [==============================] - 3s 6ms/step - loss: 14660614294.5280 - accuracy: 0.9796 - val_loss: 19018120192.0000 - val_accuracy: 1.0000\n",
      "Epoch 5/5\n",
      "500/500 [==============================] - 3s 6ms/step - loss: 26097454473.2160 - accuracy: 0.9723 - val_loss: 36084943872.0000 - val_accuracy: 1.0000\n"
     ]
    },
    {
     "data": {
      "text/plain": [
       "<tensorflow.python.keras.callbacks.History at 0x7fabafe3d240>"
      ]
     },
     "execution_count": 48,
     "metadata": {},
     "output_type": "execute_result"
    }
   ],
   "source": [
    "model.fit(dataset_train.repeat(), epochs=5, steps_per_epoch=500, verbose=1,\n",
    "              validation_data=dataset_valid.repeat(),\n",
    "              validation_steps=2)"
   ]
  },
  {
   "cell_type": "markdown",
   "metadata": {},
   "source": [
    "model method 4"
   ]
  },
  {
   "cell_type": "code",
   "execution_count": 50,
   "metadata": {},
   "outputs": [],
   "source": [
    "class MyLayer(keras.layers.Layer):\n",
    "    def __init__(self, units):\n",
    "        \"\"\"\n",
    "        :param units: [input_dim, h1_dim,...,hn_dim, output_dim]\n",
    "        \"\"\"\n",
    "        super(MyLayer, self).__init__()\n",
    "        for i in range(1, len(units)):\n",
    "            # w: [input_dim, output_dim]\n",
    "            self.add_variable(name='kernel%d'%i, shape=[units[i-1], units[i]])\n",
    "            # b: [output_dim]\n",
    "            self.add_variable(name='bias%d'%i,shape=[units[i]])\n",
    "\n",
    "    def call(self, x):\n",
    "        \"\"\"\n",
    "        :param x: [b, input_dim]\n",
    "        :return:\n",
    "        \"\"\"\n",
    "        num = len(self.trainable_variables)\n",
    "        x = tf.reshape(x, [-1, 28*28])\n",
    "        for i in range(0, num, 2):\n",
    "            x = tf.matmul(x, self.trainable_variables[i]) + self.trainable_variables[i+1]\n",
    "\n",
    "        return x"
   ]
  },
  {
   "cell_type": "code",
   "execution_count": 52,
   "metadata": {},
   "outputs": [
    {
     "name": "stdout",
     "output_type": "stream",
     "text": [
      "kernel1:0 (784, 200)\n",
      "bias1:0 (200,)\n",
      "kernel2:0 (200, 200)\n",
      "bias2:0 (200,)\n",
      "kernel3:0 (200, 10)\n",
      "bias3:0 (10,)\n",
      "epoch 0 : loss 0.3746219 ; accuracy 0.83\n",
      "epoch 1 : loss 0.47332108 ; accuracy 0.82\n",
      "epoch 2 : loss 0.42367095 ; accuracy 0.83\n",
      "epoch 3 : loss 0.423033 ; accuracy 0.84\n",
      "epoch 4 : loss 0.38566503 ; accuracy 0.88\n"
     ]
    }
   ],
   "source": [
    "model = MyLayer([28*28, 200, 200, 10])\n",
    "for p in model.trainable_variables:\n",
    "    print(p.name, p.shape)\n",
    "    \n",
    "optimizer = keras.optimizers.Adam()\n",
    "for epoch in range(5):\n",
    "    loss, accuracy = train(model, optimizer, dataset_train)\n",
    "    print('epoch', epoch, ': loss', loss.numpy(), '; accuracy', accuracy.numpy())"
   ]
  },
  {
   "cell_type": "code",
   "execution_count": null,
   "metadata": {
    "collapsed": true
   },
   "outputs": [],
   "source": []
  }
 ],
 "metadata": {
  "kernelspec": {
   "display_name": "Python 3",
   "language": "python",
   "name": "python3"
  },
  "language_info": {
   "codemirror_mode": {
    "name": "ipython",
    "version": 3
   },
   "file_extension": ".py",
   "mimetype": "text/x-python",
   "name": "python",
   "nbconvert_exporter": "python",
   "pygments_lexer": "ipython3",
   "version": "3.6.3"
  }
 },
 "nbformat": 4,
 "nbformat_minor": 2
}
