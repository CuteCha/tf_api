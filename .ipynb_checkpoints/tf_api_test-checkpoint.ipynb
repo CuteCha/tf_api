{
 "cells": [
  {
   "cell_type": "code",
   "execution_count": 1,
   "metadata": {
    "collapsed": true
   },
   "outputs": [],
   "source": [
    "import tensorflow as tf\n",
    "import matplotlib.pyplot as plt\n",
    "import numpy as np"
   ]
  },
  {
   "cell_type": "code",
   "execution_count": 2,
   "metadata": {},
   "outputs": [
    {
     "name": "stdout",
     "output_type": "stream",
     "text": [
      "tf.Tensor([1 2 3 4], shape=(4,), dtype=int32)\n",
      "tf.Tensor([5 6 7 8], shape=(4,), dtype=int32)\n",
      "tf.Tensor([1 2 3 4], shape=(4,), dtype=int32)\n",
      "tf.Tensor([5 6 7 8], shape=(4,), dtype=int32)\n",
      "tf.Tensor([1 2 3 4], shape=(4,), dtype=int32)\n",
      "tf.Tensor([5 6 7 8], shape=(4,), dtype=int32)\n"
     ]
    }
   ],
   "source": [
    "import tensorflow.compat.v1 as tf1\n",
    "tf1.enable_eager_execution()\n",
    "dataset = tf1.data.Dataset.from_tensor_slices([1,2,3,4,5,6,7,8,9])\n",
    "dataset=dataset.batch(4,drop_remainder=True)\n",
    "dataset=dataset.repeat()\n",
    "iterator = dataset.make_one_shot_iterator()\n",
    "for _ in range(6):\n",
    "    element = iterator.get_next()\n",
    "    print(element)\n"
   ]
  },
  {
   "cell_type": "code",
   "execution_count": null,
   "metadata": {
    "collapsed": true
   },
   "outputs": [],
   "source": [
    "a=tf.constant([[1,2,3,4,5],[5,6,7,8,9]])\n",
    "print(a.shape.as_list())\n",
    "print(tf.shape(a))\n",
    "print(tf.shape(a)[0])\n"
   ]
  },
  {
   "cell_type": "code",
   "execution_count": null,
   "metadata": {
    "collapsed": true
   },
   "outputs": [],
   "source": [
    "import tensorflow.compat.v1 as tf1\n",
    "tf1.disable_v2_behavior()\n",
    "b=tf1.placeholder(shape=[None,3],dtype=tf.float32,name=\"b\")\n",
    "x=[[1,2,3],[4,5,6]]\n",
    "with tf1.Session() as sess:\n",
    "#     print(sess.run(b.shape.as_list(),feed_dict={b: x}))\n",
    "    print(sess.run(tf1.shape(b),feed_dict={b: x}))\n",
    "print(b.shape.as_list())\n",
    "print(tf1.shape(b))\n",
    "# print(tf.shape(b)[0])"
   ]
  },
  {
   "cell_type": "code",
   "execution_count": null,
   "metadata": {
    "collapsed": true
   },
   "outputs": [],
   "source": [
    "x_data = np.float32(np.random.rand(2, 100)) # 随机输入\n",
    "y_data = np.dot([0.100, 0.200], x_data) + 0.300\n",
    "\n",
    "b = tf1.Variable(tf1.zeros([1]))\n",
    "W = tf1.Variable(tf1.random_uniform([1, 2], -1.0, 1.0))\n",
    "y = tf1.matmul(W, x_data) + b\n",
    "\n",
    "loss = tf1.reduce_mean(tf.square(y - y_data))\n",
    "optimizer = tf1.train.GradientDescentOptimizer(0.5)\n",
    "\n",
    "train = optimizer.minimize(loss)\n",
    "\n",
    "init = tf1.initialize_all_variables()\n",
    "\n",
    "sess = tf1.Session()\n",
    "sess.run(init)\n",
    "\n",
    "for step in range(0, 201):\n",
    "    sess.run(train)\n",
    "    if step % 20 == 0:\n",
    "        print(step, sess.run(W), sess.run(b))\n",
    "\n",
    "\n",
    "y_predict = sess.run(tf.matmul(W, x_data) + b)\n",
    "plt.scatter(y_data, y_predict[0])\n",
    "plt.show()\n"
   ]
  },
  {
   "cell_type": "code",
   "execution_count": null,
   "metadata": {
    "collapsed": true
   },
   "outputs": [],
   "source": [
    "x_data.shape"
   ]
  },
  {
   "cell_type": "code",
   "execution_count": null,
   "metadata": {
    "collapsed": true
   },
   "outputs": [],
   "source": [
    "import tensorflow.keras as keras\n",
    "\n",
    "def build_model():\n",
    "  model = keras.Sequential([\n",
    "    keras.layers.Dense(1, activation='linear', input_shape=[2,])\n",
    "  ])\n",
    "    \n",
    "  model.compile(loss='mse', metrics=['mae', 'mse'],\n",
    "                optimizer=tf.keras.optimizers.RMSprop(0.001))\n",
    "  return model\n",
    "\n",
    "model = build_model()\n",
    "model.summary()"
   ]
  },
  {
   "cell_type": "code",
   "execution_count": null,
   "metadata": {
    "collapsed": true
   },
   "outputs": [],
   "source": [
    "x_data = np.float32(np.random.rand(100, 2)) # 随机输入\n",
    "y_data = np.dot(x_data, [0.100, 0.200]) + 0.300\n",
    "history = model.fit(x_data, y_data, batch_size=10, epochs=10, validation_split=0.3, verbose=0)\n",
    "\n",
    "print(history.history)"
   ]
  },
  {
   "cell_type": "code",
   "execution_count": null,
   "metadata": {
    "collapsed": true
   },
   "outputs": [],
   "source": [
    "import matplotlib.pyplot as plt\n",
    "plt.plot(history.history['mean_squared_error'])\n",
    "plt.plot(history.history['val_mean_squared_error'])\n",
    "plt.legend(['training', 'validation'], loc='upper right')\n",
    "plt.show()"
   ]
  },
  {
   "cell_type": "code",
   "execution_count": null,
   "metadata": {
    "collapsed": true
   },
   "outputs": [],
   "source": [
    "y_pred=model.predict(x_data)\n",
    "# print(y_pred)\n",
    "# y_data.shape\n",
    "y=np.reshape(y_pred, (100,))\n",
    "print(y)\n",
    "print(y_data)\n",
    "\n",
    "plt.scatter(y, y_data)\n",
    "plt.show()"
   ]
  },
  {
   "cell_type": "code",
   "execution_count": 2,
   "metadata": {},
   "outputs": [
    {
     "data": {
      "text/plain": [
       "(3, 2, 3)"
      ]
     },
     "execution_count": 2,
     "metadata": {},
     "output_type": "execute_result"
    }
   ],
   "source": [
    "x = np.array([[[1, 1, 1], [2, 2, 2]],\n",
    "         [[3, 3, 3], [4, 4, 4]],\n",
    "         [[5, 5, 5], [6, 6, 6]]])\n",
    "\n",
    "x.shape"
   ]
  },
  {
   "cell_type": "code",
   "execution_count": 5,
   "metadata": {},
   "outputs": [
    {
     "name": "stdout",
     "output_type": "stream",
     "text": [
      "tf.Tensor([[[3 3 3]]], shape=(1, 1, 3), dtype=int64)\n",
      "tf.Tensor(\n",
      "[[[3 3 3]\n",
      "  [4 4 4]]], shape=(1, 2, 3), dtype=int64)\n",
      "tf.Tensor(\n",
      "[[[3 3 3]]\n",
      "\n",
      " [[5 5 5]]], shape=(2, 1, 3), dtype=int64)\n"
     ]
    }
   ],
   "source": [
    "print(tf.slice(x, [1, 0, 0], [1, 1, 3]))\n",
    "print(tf.slice(x, [1, 0, 0], [1, 2, 3]))\n",
    "print(tf.slice(x, [1, 0, 0], [2, 1, 3]))"
   ]
  },
  {
   "cell_type": "code",
   "execution_count": 6,
   "metadata": {},
   "outputs": [
    {
     "name": "stdout",
     "output_type": "stream",
     "text": [
      "tf.Tensor(\n",
      "[[[1 1 1]\n",
      "  [2 2 2]]\n",
      "\n",
      " [[5 5 5]\n",
      "  [6 6 6]]], shape=(2, 2, 3), dtype=int64)\n"
     ]
    }
   ],
   "source": [
    "print(tf.gather(x, [0, 2]))"
   ]
  },
  {
   "cell_type": "code",
   "execution_count": 7,
   "metadata": {
    "collapsed": true
   },
   "outputs": [],
   "source": [
    "x=np.array([[1,2,3],[4,5,6]])"
   ]
  },
  {
   "cell_type": "code",
   "execution_count": 9,
   "metadata": {},
   "outputs": [
    {
     "name": "stdout",
     "output_type": "stream",
     "text": [
      "tf.Tensor([[4]], shape=(1, 1), dtype=int64)\n",
      "tf.Tensor([[4 5]], shape=(1, 2), dtype=int64)\n",
      "tf.Tensor(\n",
      "[[1]\n",
      " [4]], shape=(2, 1), dtype=int64)\n"
     ]
    }
   ],
   "source": [
    "print(tf.slice(x, [1, 0], [1, 1]))\n",
    "print(tf.slice(x, [1, 0], [1, 2]))\n",
    "print(tf.slice(x, [0, 0], [2, 1]))"
   ]
  },
  {
   "cell_type": "code",
   "execution_count": 12,
   "metadata": {},
   "outputs": [
    {
     "name": "stdout",
     "output_type": "stream",
     "text": [
      "tf.Tensor(\n",
      "[[4 5 6]\n",
      " [4 5 6]\n",
      " [1 2 3]], shape=(3, 3), dtype=int64)\n"
     ]
    }
   ],
   "source": [
    "print(tf.gather(x, [1, 1, 0]))"
   ]
  },
  {
   "cell_type": "code",
   "execution_count": null,
   "metadata": {
    "collapsed": true
   },
   "outputs": [],
   "source": []
  }
 ],
 "metadata": {
  "kernelspec": {
   "display_name": "Python 3",
   "language": "python",
   "name": "python3"
  },
  "language_info": {
   "codemirror_mode": {
    "name": "ipython",
    "version": 3
   },
   "file_extension": ".py",
   "mimetype": "text/x-python",
   "name": "python",
   "nbconvert_exporter": "python",
   "pygments_lexer": "ipython3",
   "version": "3.6.3"
  }
 },
 "nbformat": 4,
 "nbformat_minor": 2
}
